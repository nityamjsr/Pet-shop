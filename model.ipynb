{
 "cells": [
  {
   "cell_type": "code",
   "execution_count": 111,
   "metadata": {},
   "outputs": [],
   "source": [
    "import pandas as pd\n",
    "import matplotlib.pyplot as plt\n",
    "import seaborn as sns\n",
    "import numpy as np\n"
   ]
  },
  {
   "cell_type": "code",
   "execution_count": 112,
   "metadata": {},
   "outputs": [
    {
     "data": {
      "text/html": [
       "<div>\n",
       "<style scoped>\n",
       "    .dataframe tbody tr th:only-of-type {\n",
       "        vertical-align: middle;\n",
       "    }\n",
       "\n",
       "    .dataframe tbody tr th {\n",
       "        vertical-align: top;\n",
       "    }\n",
       "\n",
       "    .dataframe thead th {\n",
       "        text-align: right;\n",
       "    }\n",
       "</style>\n",
       "<table border=\"1\" class=\"dataframe\">\n",
       "  <thead>\n",
       "    <tr style=\"text-align: right;\">\n",
       "      <th></th>\n",
       "      <th>condition</th>\n",
       "      <th>color_type</th>\n",
       "      <th>length(m)</th>\n",
       "      <th>height(cm)</th>\n",
       "      <th>X1</th>\n",
       "      <th>X2</th>\n",
       "      <th>breed_category</th>\n",
       "      <th>pet_category</th>\n",
       "      <th>diff</th>\n",
       "    </tr>\n",
       "  </thead>\n",
       "  <tbody>\n",
       "    <tr>\n",
       "      <th>0</th>\n",
       "      <td>2</td>\n",
       "      <td>Brown</td>\n",
       "      <td>0.80</td>\n",
       "      <td>7.78</td>\n",
       "      <td>13</td>\n",
       "      <td>9</td>\n",
       "      <td>0</td>\n",
       "      <td>1</td>\n",
       "      <td>73.684028</td>\n",
       "    </tr>\n",
       "    <tr>\n",
       "      <th>1</th>\n",
       "      <td>1</td>\n",
       "      <td>White</td>\n",
       "      <td>0.72</td>\n",
       "      <td>14.19</td>\n",
       "      <td>13</td>\n",
       "      <td>9</td>\n",
       "      <td>0</td>\n",
       "      <td>2</td>\n",
       "      <td>1862.740972</td>\n",
       "    </tr>\n",
       "    <tr>\n",
       "      <th>2</th>\n",
       "      <td>1</td>\n",
       "      <td>White</td>\n",
       "      <td>0.62</td>\n",
       "      <td>17.82</td>\n",
       "      <td>0</td>\n",
       "      <td>1</td>\n",
       "      <td>0</td>\n",
       "      <td>2</td>\n",
       "      <td>755.770833</td>\n",
       "    </tr>\n",
       "    <tr>\n",
       "      <th>3</th>\n",
       "      <td>2</td>\n",
       "      <td>Black</td>\n",
       "      <td>0.50</td>\n",
       "      <td>11.06</td>\n",
       "      <td>18</td>\n",
       "      <td>4</td>\n",
       "      <td>0</td>\n",
       "      <td>1</td>\n",
       "      <td>52.401389</td>\n",
       "    </tr>\n",
       "    <tr>\n",
       "      <th>4</th>\n",
       "      <td>0</td>\n",
       "      <td>Red</td>\n",
       "      <td>0.92</td>\n",
       "      <td>29.56</td>\n",
       "      <td>0</td>\n",
       "      <td>7</td>\n",
       "      <td>1</td>\n",
       "      <td>2</td>\n",
       "      <td>501.554167</td>\n",
       "    </tr>\n",
       "  </tbody>\n",
       "</table>\n",
       "</div>"
      ],
      "text/plain": [
       "   condition color_type  length(m)  height(cm)  X1  X2  breed_category  \\\n",
       "0          2      Brown       0.80        7.78  13   9               0   \n",
       "1          1      White       0.72       14.19  13   9               0   \n",
       "2          1      White       0.62       17.82   0   1               0   \n",
       "3          2      Black       0.50       11.06  18   4               0   \n",
       "4          0        Red       0.92       29.56   0   7               1   \n",
       "\n",
       "   pet_category         diff  \n",
       "0             1    73.684028  \n",
       "1             2  1862.740972  \n",
       "2             2   755.770833  \n",
       "3             1    52.401389  \n",
       "4             2   501.554167  "
      ]
     },
     "execution_count": 112,
     "metadata": {},
     "output_type": "execute_result"
    }
   ],
   "source": [
    "data1=pd.read_csv(\"data_prepocess.csv\")\n",
    "data1.head()"
   ]
  },
  {
   "cell_type": "code",
   "execution_count": 113,
   "metadata": {},
   "outputs": [
    {
     "data": {
      "text/html": [
       "<div>\n",
       "<style scoped>\n",
       "    .dataframe tbody tr th:only-of-type {\n",
       "        vertical-align: middle;\n",
       "    }\n",
       "\n",
       "    .dataframe tbody tr th {\n",
       "        vertical-align: top;\n",
       "    }\n",
       "\n",
       "    .dataframe thead th {\n",
       "        text-align: right;\n",
       "    }\n",
       "</style>\n",
       "<table border=\"1\" class=\"dataframe\">\n",
       "  <thead>\n",
       "    <tr style=\"text-align: right;\">\n",
       "      <th></th>\n",
       "      <th>condition</th>\n",
       "      <th>color_type</th>\n",
       "      <th>length(m)</th>\n",
       "      <th>height(cm)</th>\n",
       "      <th>X1</th>\n",
       "      <th>X2</th>\n",
       "      <th>breed_category</th>\n",
       "      <th>pet_category</th>\n",
       "      <th>diff</th>\n",
       "    </tr>\n",
       "  </thead>\n",
       "  <tbody>\n",
       "    <tr>\n",
       "      <th>count</th>\n",
       "      <td>17357.000000</td>\n",
       "      <td>17357</td>\n",
       "      <td>17357.000000</td>\n",
       "      <td>17357.000000</td>\n",
       "      <td>17357.000000</td>\n",
       "      <td>17357.000000</td>\n",
       "      <td>17357.000000</td>\n",
       "      <td>17357.000000</td>\n",
       "      <td>17357.000000</td>\n",
       "    </tr>\n",
       "    <tr>\n",
       "      <th>unique</th>\n",
       "      <td>NaN</td>\n",
       "      <td>19</td>\n",
       "      <td>NaN</td>\n",
       "      <td>NaN</td>\n",
       "      <td>NaN</td>\n",
       "      <td>NaN</td>\n",
       "      <td>NaN</td>\n",
       "      <td>NaN</td>\n",
       "      <td>NaN</td>\n",
       "    </tr>\n",
       "    <tr>\n",
       "      <th>top</th>\n",
       "      <td>NaN</td>\n",
       "      <td>Black</td>\n",
       "      <td>NaN</td>\n",
       "      <td>NaN</td>\n",
       "      <td>NaN</td>\n",
       "      <td>NaN</td>\n",
       "      <td>NaN</td>\n",
       "      <td>NaN</td>\n",
       "      <td>NaN</td>\n",
       "    </tr>\n",
       "    <tr>\n",
       "      <th>freq</th>\n",
       "      <td>NaN</td>\n",
       "      <td>4435</td>\n",
       "      <td>NaN</td>\n",
       "      <td>NaN</td>\n",
       "      <td>NaN</td>\n",
       "      <td>NaN</td>\n",
       "      <td>NaN</td>\n",
       "      <td>NaN</td>\n",
       "      <td>NaN</td>\n",
       "    </tr>\n",
       "    <tr>\n",
       "      <th>mean</th>\n",
       "      <td>0.883390</td>\n",
       "      <td>NaN</td>\n",
       "      <td>0.502296</td>\n",
       "      <td>27.435507</td>\n",
       "      <td>4.708014</td>\n",
       "      <td>4.468053</td>\n",
       "      <td>0.481477</td>\n",
       "      <td>1.633635</td>\n",
       "      <td>898.159872</td>\n",
       "    </tr>\n",
       "    <tr>\n",
       "      <th>std</th>\n",
       "      <td>0.770434</td>\n",
       "      <td>NaN</td>\n",
       "      <td>0.288456</td>\n",
       "      <td>13.032920</td>\n",
       "      <td>6.287516</td>\n",
       "      <td>3.563806</td>\n",
       "      <td>0.499671</td>\n",
       "      <td>0.539481</td>\n",
       "      <td>1123.928394</td>\n",
       "    </tr>\n",
       "    <tr>\n",
       "      <th>min</th>\n",
       "      <td>0.000000</td>\n",
       "      <td>NaN</td>\n",
       "      <td>0.000000</td>\n",
       "      <td>5.000000</td>\n",
       "      <td>0.000000</td>\n",
       "      <td>0.000000</td>\n",
       "      <td>0.000000</td>\n",
       "      <td>0.000000</td>\n",
       "      <td>-75.290972</td>\n",
       "    </tr>\n",
       "    <tr>\n",
       "      <th>25%</th>\n",
       "      <td>0.000000</td>\n",
       "      <td>NaN</td>\n",
       "      <td>0.250000</td>\n",
       "      <td>16.150000</td>\n",
       "      <td>0.000000</td>\n",
       "      <td>1.000000</td>\n",
       "      <td>0.000000</td>\n",
       "      <td>1.000000</td>\n",
       "      <td>128.547917</td>\n",
       "    </tr>\n",
       "    <tr>\n",
       "      <th>50%</th>\n",
       "      <td>1.000000</td>\n",
       "      <td>NaN</td>\n",
       "      <td>0.500000</td>\n",
       "      <td>27.300000</td>\n",
       "      <td>0.000000</td>\n",
       "      <td>4.000000</td>\n",
       "      <td>0.000000</td>\n",
       "      <td>2.000000</td>\n",
       "      <td>398.547917</td>\n",
       "    </tr>\n",
       "    <tr>\n",
       "      <th>75%</th>\n",
       "      <td>1.000000</td>\n",
       "      <td>NaN</td>\n",
       "      <td>0.750000</td>\n",
       "      <td>38.900000</td>\n",
       "      <td>13.000000</td>\n",
       "      <td>9.000000</td>\n",
       "      <td>1.000000</td>\n",
       "      <td>2.000000</td>\n",
       "      <td>1122.627083</td>\n",
       "    </tr>\n",
       "    <tr>\n",
       "      <th>max</th>\n",
       "      <td>2.000000</td>\n",
       "      <td>NaN</td>\n",
       "      <td>1.000000</td>\n",
       "      <td>50.000000</td>\n",
       "      <td>18.000000</td>\n",
       "      <td>9.000000</td>\n",
       "      <td>1.000000</td>\n",
       "      <td>4.000000</td>\n",
       "      <td>8056.658333</td>\n",
       "    </tr>\n",
       "  </tbody>\n",
       "</table>\n",
       "</div>"
      ],
      "text/plain": [
       "           condition color_type     length(m)    height(cm)            X1  \\\n",
       "count   17357.000000      17357  17357.000000  17357.000000  17357.000000   \n",
       "unique           NaN         19           NaN           NaN           NaN   \n",
       "top              NaN      Black           NaN           NaN           NaN   \n",
       "freq             NaN       4435           NaN           NaN           NaN   \n",
       "mean        0.883390        NaN      0.502296     27.435507      4.708014   \n",
       "std         0.770434        NaN      0.288456     13.032920      6.287516   \n",
       "min         0.000000        NaN      0.000000      5.000000      0.000000   \n",
       "25%         0.000000        NaN      0.250000     16.150000      0.000000   \n",
       "50%         1.000000        NaN      0.500000     27.300000      0.000000   \n",
       "75%         1.000000        NaN      0.750000     38.900000     13.000000   \n",
       "max         2.000000        NaN      1.000000     50.000000     18.000000   \n",
       "\n",
       "                  X2  breed_category  pet_category          diff  \n",
       "count   17357.000000    17357.000000  17357.000000  17357.000000  \n",
       "unique           NaN             NaN           NaN           NaN  \n",
       "top              NaN             NaN           NaN           NaN  \n",
       "freq             NaN             NaN           NaN           NaN  \n",
       "mean        4.468053        0.481477      1.633635    898.159872  \n",
       "std         3.563806        0.499671      0.539481   1123.928394  \n",
       "min         0.000000        0.000000      0.000000    -75.290972  \n",
       "25%         1.000000        0.000000      1.000000    128.547917  \n",
       "50%         4.000000        0.000000      2.000000    398.547917  \n",
       "75%         9.000000        1.000000      2.000000   1122.627083  \n",
       "max         9.000000        1.000000      4.000000   8056.658333  "
      ]
     },
     "execution_count": 113,
     "metadata": {},
     "output_type": "execute_result"
    }
   ],
   "source": [
    "data1.describe(include='all')"
   ]
  },
  {
   "cell_type": "code",
   "execution_count": 114,
   "metadata": {},
   "outputs": [
    {
     "data": {
      "text/plain": [
       "1    6819\n",
       "0    6281\n",
       "2    4257\n",
       "Name: condition, dtype: int64"
      ]
     },
     "execution_count": 114,
     "metadata": {},
     "output_type": "execute_result"
    }
   ],
   "source": [
    "data1['condition'].value_counts()"
   ]
  },
  {
   "cell_type": "code",
   "execution_count": 115,
   "metadata": {},
   "outputs": [
    {
     "data": {
      "text/plain": [
       "<matplotlib.axes._subplots.AxesSubplot at 0x24e0d73ae48>"
      ]
     },
     "execution_count": 115,
     "metadata": {},
     "output_type": "execute_result"
    },
    {
     "data": {
      "image/png": "[encoded data removed]",
      "text/plain": [
       "<Figure size 432x288 with 1 Axes>"
      ]
     },
     "metadata": {
      "needs_background": "light"
     },
     "output_type": "display_data"
    }
   ],
   "source": [
    "sns.distplot(data1['length(m)'])\n"
   ]
  },
  {
   "cell_type": "code",
   "execution_count": 116,
   "metadata": {},
   "outputs": [],
   "source": [
    "data1 = data1.reset_index(drop=True)"
   ]
  },
  {
   "cell_type": "code",
   "execution_count": 117,
   "metadata": {},
   "outputs": [
    {
     "data": {
      "text/plain": [
       "<matplotlib.axes._subplots.AxesSubplot at 0x24e0d942ec8>"
      ]
     },
     "execution_count": 117,
     "metadata": {},
     "output_type": "execute_result"
    },
    {
     "data": {
      "image/png": "[encoded data removed]",
      "text/plain": [
       "<Figure size 432x288 with 1 Axes>"
      ]
     },
     "metadata": {
      "needs_background": "light"
     },
     "output_type": "display_data"
    }
   ],
   "source": [
    "sns.distplot(data1[\"height(cm)\"])"
   ]
  },
  {
   "cell_type": "code",
   "execution_count": 118,
   "metadata": {},
   "outputs": [
    {
     "ename": "KeyError",
     "evalue": "\"['pet_id'] not found in axis\"",
     "output_type": "error",
     "traceback": [
      "\u001b[1;31m---------------------------------------------------------------------------\u001b[0m",
      "\u001b[1;31mKeyError\u001b[0m                                  Traceback (most recent call last)",
      "\u001b[1;32m<ipython-input-118-5b2a0b1f3fce>\u001b[0m in \u001b[0;36m<module>\u001b[1;34m\u001b[0m\n\u001b[1;32m----> 1\u001b[1;33m \u001b[0mdata1\u001b[0m\u001b[1;33m=\u001b[0m\u001b[0mdata1\u001b[0m\u001b[1;33m.\u001b[0m\u001b[0mdrop\u001b[0m\u001b[1;33m(\u001b[0m\u001b[1;33m[\u001b[0m\u001b[1;34m\"pet_id\"\u001b[0m\u001b[1;33m]\u001b[0m\u001b[1;33m,\u001b[0m\u001b[0maxis\u001b[0m\u001b[1;33m=\u001b[0m\u001b[1;36m1\u001b[0m\u001b[1;33m)\u001b[0m\u001b[1;33m\u001b[0m\u001b[1;33m\u001b[0m\u001b[0m\n\u001b[0m",
      "\u001b[1;32m~\\anaconda3\\lib\\site-packages\\pandas\\core\\frame.py\u001b[0m in \u001b[0;36mdrop\u001b[1;34m(self, labels, axis, index, columns, level, inplace, errors)\u001b[0m\n\u001b[0;32m   3995\u001b[0m             \u001b[0mlevel\u001b[0m\u001b[1;33m=\u001b[0m\u001b[0mlevel\u001b[0m\u001b[1;33m,\u001b[0m\u001b[1;33m\u001b[0m\u001b[1;33m\u001b[0m\u001b[0m\n\u001b[0;32m   3996\u001b[0m             \u001b[0minplace\u001b[0m\u001b[1;33m=\u001b[0m\u001b[0minplace\u001b[0m\u001b[1;33m,\u001b[0m\u001b[1;33m\u001b[0m\u001b[1;33m\u001b[0m\u001b[0m\n\u001b[1;32m-> 3997\u001b[1;33m             \u001b[0merrors\u001b[0m\u001b[1;33m=\u001b[0m\u001b[0merrors\u001b[0m\u001b[1;33m,\u001b[0m\u001b[1;33m\u001b[0m\u001b[1;33m\u001b[0m\u001b[0m\n\u001b[0m\u001b[0;32m   3998\u001b[0m         )\n\u001b[0;32m   3999\u001b[0m \u001b[1;33m\u001b[0m\u001b[0m\n",
      "\u001b[1;32m~\\anaconda3\\lib\\site-packages\\pandas\\core\\generic.py\u001b[0m in \u001b[0;36mdrop\u001b[1;34m(self, labels, axis, index, columns, level, inplace, errors)\u001b[0m\n\u001b[0;32m   3934\u001b[0m         \u001b[1;32mfor\u001b[0m \u001b[0maxis\u001b[0m\u001b[1;33m,\u001b[0m \u001b[0mlabels\u001b[0m \u001b[1;32min\u001b[0m \u001b[0maxes\u001b[0m\u001b[1;33m.\u001b[0m\u001b[0mitems\u001b[0m\u001b[1;33m(\u001b[0m\u001b[1;33m)\u001b[0m\u001b[1;33m:\u001b[0m\u001b[1;33m\u001b[0m\u001b[1;33m\u001b[0m\u001b[0m\n\u001b[0;32m   3935\u001b[0m             \u001b[1;32mif\u001b[0m \u001b[0mlabels\u001b[0m \u001b[1;32mis\u001b[0m \u001b[1;32mnot\u001b[0m \u001b[1;32mNone\u001b[0m\u001b[1;33m:\u001b[0m\u001b[1;33m\u001b[0m\u001b[1;33m\u001b[0m\u001b[0m\n\u001b[1;32m-> 3936\u001b[1;33m                 \u001b[0mobj\u001b[0m \u001b[1;33m=\u001b[0m \u001b[0mobj\u001b[0m\u001b[1;33m.\u001b[0m\u001b[0m_drop_axis\u001b[0m\u001b[1;33m(\u001b[0m\u001b[0mlabels\u001b[0m\u001b[1;33m,\u001b[0m \u001b[0maxis\u001b[0m\u001b[1;33m,\u001b[0m \u001b[0mlevel\u001b[0m\u001b[1;33m=\u001b[0m\u001b[0mlevel\u001b[0m\u001b[1;33m,\u001b[0m \u001b[0merrors\u001b[0m\u001b[1;33m=\u001b[0m\u001b[0merrors\u001b[0m\u001b[1;33m)\u001b[0m\u001b[1;33m\u001b[0m\u001b[1;33m\u001b[0m\u001b[0m\n\u001b[0m\u001b[0;32m   3937\u001b[0m \u001b[1;33m\u001b[0m\u001b[0m\n\u001b[0;32m   3938\u001b[0m         \u001b[1;32mif\u001b[0m \u001b[0minplace\u001b[0m\u001b[1;33m:\u001b[0m\u001b[1;33m\u001b[0m\u001b[1;33m\u001b[0m\u001b[0m\n",
      "\u001b[1;32m~\\anaconda3\\lib\\site-packages\\pandas\\core\\generic.py\u001b[0m in \u001b[0;36m_drop_axis\u001b[1;34m(self, labels, axis, level, errors)\u001b[0m\n\u001b[0;32m   3968\u001b[0m                 \u001b[0mnew_axis\u001b[0m \u001b[1;33m=\u001b[0m \u001b[0maxis\u001b[0m\u001b[1;33m.\u001b[0m\u001b[0mdrop\u001b[0m\u001b[1;33m(\u001b[0m\u001b[0mlabels\u001b[0m\u001b[1;33m,\u001b[0m \u001b[0mlevel\u001b[0m\u001b[1;33m=\u001b[0m\u001b[0mlevel\u001b[0m\u001b[1;33m,\u001b[0m \u001b[0merrors\u001b[0m\u001b[1;33m=\u001b[0m\u001b[0merrors\u001b[0m\u001b[1;33m)\u001b[0m\u001b[1;33m\u001b[0m\u001b[1;33m\u001b[0m\u001b[0m\n\u001b[0;32m   3969\u001b[0m             \u001b[1;32melse\u001b[0m\u001b[1;33m:\u001b[0m\u001b[1;33m\u001b[0m\u001b[1;33m\u001b[0m\u001b[0m\n\u001b[1;32m-> 3970\u001b[1;33m                 \u001b[0mnew_axis\u001b[0m \u001b[1;33m=\u001b[0m \u001b[0maxis\u001b[0m\u001b[1;33m.\u001b[0m\u001b[0mdrop\u001b[0m\u001b[1;33m(\u001b[0m\u001b[0mlabels\u001b[0m\u001b[1;33m,\u001b[0m \u001b[0merrors\u001b[0m\u001b[1;33m=\u001b[0m\u001b[0merrors\u001b[0m\u001b[1;33m)\u001b[0m\u001b[1;33m\u001b[0m\u001b[1;33m\u001b[0m\u001b[0m\n\u001b[0m\u001b[0;32m   3971\u001b[0m             \u001b[0mresult\u001b[0m \u001b[1;33m=\u001b[0m \u001b[0mself\u001b[0m\u001b[1;33m.\u001b[0m\u001b[0mreindex\u001b[0m\u001b[1;33m(\u001b[0m\u001b[1;33m**\u001b[0m\u001b[1;33m{\u001b[0m\u001b[0maxis_name\u001b[0m\u001b[1;33m:\u001b[0m \u001b[0mnew_axis\u001b[0m\u001b[1;33m}\u001b[0m\u001b[1;33m)\u001b[0m\u001b[1;33m\u001b[0m\u001b[1;33m\u001b[0m\u001b[0m\n\u001b[0;32m   3972\u001b[0m \u001b[1;33m\u001b[0m\u001b[0m\n",
      "\u001b[1;32m~\\anaconda3\\lib\\site-packages\\pandas\\core\\indexes\\base.py\u001b[0m in \u001b[0;36mdrop\u001b[1;34m(self, labels, errors)\u001b[0m\n\u001b[0;32m   5016\u001b[0m         \u001b[1;32mif\u001b[0m \u001b[0mmask\u001b[0m\u001b[1;33m.\u001b[0m\u001b[0many\u001b[0m\u001b[1;33m(\u001b[0m\u001b[1;33m)\u001b[0m\u001b[1;33m:\u001b[0m\u001b[1;33m\u001b[0m\u001b[1;33m\u001b[0m\u001b[0m\n\u001b[0;32m   5017\u001b[0m             \u001b[1;32mif\u001b[0m \u001b[0merrors\u001b[0m \u001b[1;33m!=\u001b[0m \u001b[1;34m\"ignore\"\u001b[0m\u001b[1;33m:\u001b[0m\u001b[1;33m\u001b[0m\u001b[1;33m\u001b[0m\u001b[0m\n\u001b[1;32m-> 5018\u001b[1;33m                 \u001b[1;32mraise\u001b[0m \u001b[0mKeyError\u001b[0m\u001b[1;33m(\u001b[0m\u001b[1;34mf\"{labels[mask]} not found in axis\"\u001b[0m\u001b[1;33m)\u001b[0m\u001b[1;33m\u001b[0m\u001b[1;33m\u001b[0m\u001b[0m\n\u001b[0m\u001b[0;32m   5019\u001b[0m             \u001b[0mindexer\u001b[0m \u001b[1;33m=\u001b[0m \u001b[0mindexer\u001b[0m\u001b[1;33m[\u001b[0m\u001b[1;33m~\u001b[0m\u001b[0mmask\u001b[0m\u001b[1;33m]\u001b[0m\u001b[1;33m\u001b[0m\u001b[1;33m\u001b[0m\u001b[0m\n\u001b[0;32m   5020\u001b[0m         \u001b[1;32mreturn\u001b[0m \u001b[0mself\u001b[0m\u001b[1;33m.\u001b[0m\u001b[0mdelete\u001b[0m\u001b[1;33m(\u001b[0m\u001b[0mindexer\u001b[0m\u001b[1;33m)\u001b[0m\u001b[1;33m\u001b[0m\u001b[1;33m\u001b[0m\u001b[0m\n",
      "\u001b[1;31mKeyError\u001b[0m: \"['pet_id'] not found in axis\""
     ]
    }
   ],
   "source": [
    "data1=data1.drop([\"pet_id\"],axis=1)"
   ]
  },
  {
   "cell_type": "code",
   "execution_count": 119,
   "metadata": {},
   "outputs": [
    {
     "data": {
      "text/html": [
       "<div>\n",
       "<style scoped>\n",
       "    .dataframe tbody tr th:only-of-type {\n",
       "        vertical-align: middle;\n",
       "    }\n",
       "\n",
       "    .dataframe tbody tr th {\n",
       "        vertical-align: top;\n",
       "    }\n",
       "\n",
       "    .dataframe thead th {\n",
       "        text-align: right;\n",
       "    }\n",
       "</style>\n",
       "<table border=\"1\" class=\"dataframe\">\n",
       "  <thead>\n",
       "    <tr style=\"text-align: right;\">\n",
       "      <th></th>\n",
       "      <th>condition</th>\n",
       "      <th>color_type</th>\n",
       "      <th>length(m)</th>\n",
       "      <th>height(cm)</th>\n",
       "      <th>X1</th>\n",
       "      <th>X2</th>\n",
       "      <th>breed_category</th>\n",
       "      <th>pet_category</th>\n",
       "      <th>diff</th>\n",
       "    </tr>\n",
       "  </thead>\n",
       "  <tbody>\n",
       "    <tr>\n",
       "      <th>0</th>\n",
       "      <td>2</td>\n",
       "      <td>Brown</td>\n",
       "      <td>0.80</td>\n",
       "      <td>7.78</td>\n",
       "      <td>13</td>\n",
       "      <td>9</td>\n",
       "      <td>0</td>\n",
       "      <td>1</td>\n",
       "      <td>73.684028</td>\n",
       "    </tr>\n",
       "    <tr>\n",
       "      <th>1</th>\n",
       "      <td>1</td>\n",
       "      <td>White</td>\n",
       "      <td>0.72</td>\n",
       "      <td>14.19</td>\n",
       "      <td>13</td>\n",
       "      <td>9</td>\n",
       "      <td>0</td>\n",
       "      <td>2</td>\n",
       "      <td>1862.740972</td>\n",
       "    </tr>\n",
       "    <tr>\n",
       "      <th>2</th>\n",
       "      <td>1</td>\n",
       "      <td>White</td>\n",
       "      <td>0.62</td>\n",
       "      <td>17.82</td>\n",
       "      <td>0</td>\n",
       "      <td>1</td>\n",
       "      <td>0</td>\n",
       "      <td>2</td>\n",
       "      <td>755.770833</td>\n",
       "    </tr>\n",
       "    <tr>\n",
       "      <th>3</th>\n",
       "      <td>2</td>\n",
       "      <td>Black</td>\n",
       "      <td>0.50</td>\n",
       "      <td>11.06</td>\n",
       "      <td>18</td>\n",
       "      <td>4</td>\n",
       "      <td>0</td>\n",
       "      <td>1</td>\n",
       "      <td>52.401389</td>\n",
       "    </tr>\n",
       "    <tr>\n",
       "      <th>4</th>\n",
       "      <td>0</td>\n",
       "      <td>Red</td>\n",
       "      <td>0.92</td>\n",
       "      <td>29.56</td>\n",
       "      <td>0</td>\n",
       "      <td>7</td>\n",
       "      <td>1</td>\n",
       "      <td>2</td>\n",
       "      <td>501.554167</td>\n",
       "    </tr>\n",
       "  </tbody>\n",
       "</table>\n",
       "</div>"
      ],
      "text/plain": [
       "   condition color_type  length(m)  height(cm)  X1  X2  breed_category  \\\n",
       "0          2      Brown       0.80        7.78  13   9               0   \n",
       "1          1      White       0.72       14.19  13   9               0   \n",
       "2          1      White       0.62       17.82   0   1               0   \n",
       "3          2      Black       0.50       11.06  18   4               0   \n",
       "4          0        Red       0.92       29.56   0   7               1   \n",
       "\n",
       "   pet_category         diff  \n",
       "0             1    73.684028  \n",
       "1             2  1862.740972  \n",
       "2             2   755.770833  \n",
       "3             1    52.401389  \n",
       "4             2   501.554167  "
      ]
     },
     "execution_count": 119,
     "metadata": {},
     "output_type": "execute_result"
    }
   ],
   "source": [
    "data1.head()"
   ]
  },
  {
   "cell_type": "code",
   "execution_count": 120,
   "metadata": {},
   "outputs": [
    {
     "data": {
      "text/html": [
       "<div>\n",
       "<style scoped>\n",
       "    .dataframe tbody tr th:only-of-type {\n",
       "        vertical-align: middle;\n",
       "    }\n",
       "\n",
       "    .dataframe tbody tr th {\n",
       "        vertical-align: top;\n",
       "    }\n",
       "\n",
       "    .dataframe thead th {\n",
       "        text-align: right;\n",
       "    }\n",
       "</style>\n",
       "<table border=\"1\" class=\"dataframe\">\n",
       "  <thead>\n",
       "    <tr style=\"text-align: right;\">\n",
       "      <th></th>\n",
       "      <th>breed_category</th>\n",
       "      <th>pet_category</th>\n",
       "    </tr>\n",
       "  </thead>\n",
       "  <tbody>\n",
       "    <tr>\n",
       "      <th>0</th>\n",
       "      <td>0</td>\n",
       "      <td>1</td>\n",
       "    </tr>\n",
       "    <tr>\n",
       "      <th>1</th>\n",
       "      <td>0</td>\n",
       "      <td>2</td>\n",
       "    </tr>\n",
       "    <tr>\n",
       "      <th>2</th>\n",
       "      <td>0</td>\n",
       "      <td>2</td>\n",
       "    </tr>\n",
       "    <tr>\n",
       "      <th>3</th>\n",
       "      <td>0</td>\n",
       "      <td>1</td>\n",
       "    </tr>\n",
       "    <tr>\n",
       "      <th>4</th>\n",
       "      <td>1</td>\n",
       "      <td>2</td>\n",
       "    </tr>\n",
       "  </tbody>\n",
       "</table>\n",
       "</div>"
      ],
      "text/plain": [
       "   breed_category  pet_category\n",
       "0               0             1\n",
       "1               0             2\n",
       "2               0             2\n",
       "3               0             1\n",
       "4               1             2"
      ]
     },
     "execution_count": 120,
     "metadata": {},
     "output_type": "execute_result"
    }
   ],
   "source": [
    "y=data1.loc[:,[\"breed_category\",\"pet_category\"]]\n",
    "y.head()"
   ]
  },
  {
   "cell_type": "code",
   "execution_count": 121,
   "metadata": {},
   "outputs": [
    {
     "data": {
      "text/plain": [
       "2    10561\n",
       "1     6601\n",
       "4      158\n",
       "0       37\n",
       "Name: pet_category, dtype: int64"
      ]
     },
     "execution_count": 121,
     "metadata": {},
     "output_type": "execute_result"
    }
   ],
   "source": [
    "z=y[\"pet_category\"]\n",
    "y=y.drop([\"breed_category\"],axis=1)\n",
    "z.value_counts()"
   ]
  },
  {
   "cell_type": "code",
   "execution_count": 122,
   "metadata": {},
   "outputs": [
    {
     "data": {
      "text/plain": [
       "(17357, 1)"
      ]
     },
     "execution_count": 122,
     "metadata": {},
     "output_type": "execute_result"
    }
   ],
   "source": [
    "data1=data1.drop([\"breed_category\",\"pet_category\"],axis=1)\n",
    "y.shape"
   ]
  },
  {
   "cell_type": "code",
   "execution_count": 123,
   "metadata": {},
   "outputs": [
    {
     "data": {
      "text/plain": [
       "array(['condition', 'color_type', 'length(m)', 'height(cm)', 'X1', 'X2',\n",
       "       'diff'], dtype=object)"
      ]
     },
     "execution_count": 123,
     "metadata": {},
     "output_type": "execute_result"
    }
   ],
   "source": [
    "data1.columns.values"
   ]
  },
  {
   "cell_type": "code",
   "execution_count": 124,
   "metadata": {},
   "outputs": [],
   "source": [
    "data_with_dummies = pd.get_dummies(data1, columns=['condition', 'color_type'], drop_first=True)"
   ]
  },
  {
   "cell_type": "code",
   "execution_count": 125,
   "metadata": {},
   "outputs": [
    {
     "data": {
      "text/html": [
       "<div>\n",
       "<style scoped>\n",
       "    .dataframe tbody tr th:only-of-type {\n",
       "        vertical-align: middle;\n",
       "    }\n",
       "\n",
       "    .dataframe tbody tr th {\n",
       "        vertical-align: top;\n",
       "    }\n",
       "\n",
       "    .dataframe thead th {\n",
       "        text-align: right;\n",
       "    }\n",
       "</style>\n",
       "<table border=\"1\" class=\"dataframe\">\n",
       "  <thead>\n",
       "    <tr style=\"text-align: right;\">\n",
       "      <th></th>\n",
       "      <th>length(m)</th>\n",
       "      <th>height(cm)</th>\n",
       "      <th>X1</th>\n",
       "      <th>X2</th>\n",
       "      <th>diff</th>\n",
       "      <th>condition_1</th>\n",
       "      <th>condition_2</th>\n",
       "      <th>color_type_Blue</th>\n",
       "      <th>color_type_Brown</th>\n",
       "      <th>color_type_Buff</th>\n",
       "      <th>...</th>\n",
       "      <th>color_type_Orange</th>\n",
       "      <th>color_type_Red</th>\n",
       "      <th>color_type_Sable</th>\n",
       "      <th>color_type_Tan</th>\n",
       "      <th>color_type_Torbie</th>\n",
       "      <th>color_type_Tortie</th>\n",
       "      <th>color_type_Tricolor</th>\n",
       "      <th>color_type_White</th>\n",
       "      <th>color_type_Yellow</th>\n",
       "      <th>color_type_rare</th>\n",
       "    </tr>\n",
       "  </thead>\n",
       "  <tbody>\n",
       "    <tr>\n",
       "      <th>0</th>\n",
       "      <td>0.80</td>\n",
       "      <td>7.78</td>\n",
       "      <td>13</td>\n",
       "      <td>9</td>\n",
       "      <td>73.684028</td>\n",
       "      <td>0</td>\n",
       "      <td>1</td>\n",
       "      <td>0</td>\n",
       "      <td>1</td>\n",
       "      <td>0</td>\n",
       "      <td>...</td>\n",
       "      <td>0</td>\n",
       "      <td>0</td>\n",
       "      <td>0</td>\n",
       "      <td>0</td>\n",
       "      <td>0</td>\n",
       "      <td>0</td>\n",
       "      <td>0</td>\n",
       "      <td>0</td>\n",
       "      <td>0</td>\n",
       "      <td>0</td>\n",
       "    </tr>\n",
       "    <tr>\n",
       "      <th>1</th>\n",
       "      <td>0.72</td>\n",
       "      <td>14.19</td>\n",
       "      <td>13</td>\n",
       "      <td>9</td>\n",
       "      <td>1862.740972</td>\n",
       "      <td>1</td>\n",
       "      <td>0</td>\n",
       "      <td>0</td>\n",
       "      <td>0</td>\n",
       "      <td>0</td>\n",
       "      <td>...</td>\n",
       "      <td>0</td>\n",
       "      <td>0</td>\n",
       "      <td>0</td>\n",
       "      <td>0</td>\n",
       "      <td>0</td>\n",
       "      <td>0</td>\n",
       "      <td>0</td>\n",
       "      <td>1</td>\n",
       "      <td>0</td>\n",
       "      <td>0</td>\n",
       "    </tr>\n",
       "    <tr>\n",
       "      <th>2</th>\n",
       "      <td>0.62</td>\n",
       "      <td>17.82</td>\n",
       "      <td>0</td>\n",
       "      <td>1</td>\n",
       "      <td>755.770833</td>\n",
       "      <td>1</td>\n",
       "      <td>0</td>\n",
       "      <td>0</td>\n",
       "      <td>0</td>\n",
       "      <td>0</td>\n",
       "      <td>...</td>\n",
       "      <td>0</td>\n",
       "      <td>0</td>\n",
       "      <td>0</td>\n",
       "      <td>0</td>\n",
       "      <td>0</td>\n",
       "      <td>0</td>\n",
       "      <td>0</td>\n",
       "      <td>1</td>\n",
       "      <td>0</td>\n",
       "      <td>0</td>\n",
       "    </tr>\n",
       "    <tr>\n",
       "      <th>3</th>\n",
       "      <td>0.50</td>\n",
       "      <td>11.06</td>\n",
       "      <td>18</td>\n",
       "      <td>4</td>\n",
       "      <td>52.401389</td>\n",
       "      <td>0</td>\n",
       "      <td>1</td>\n",
       "      <td>0</td>\n",
       "      <td>0</td>\n",
       "      <td>0</td>\n",
       "      <td>...</td>\n",
       "      <td>0</td>\n",
       "      <td>0</td>\n",
       "      <td>0</td>\n",
       "      <td>0</td>\n",
       "      <td>0</td>\n",
       "      <td>0</td>\n",
       "      <td>0</td>\n",
       "      <td>0</td>\n",
       "      <td>0</td>\n",
       "      <td>0</td>\n",
       "    </tr>\n",
       "    <tr>\n",
       "      <th>4</th>\n",
       "      <td>0.92</td>\n",
       "      <td>29.56</td>\n",
       "      <td>0</td>\n",
       "      <td>7</td>\n",
       "      <td>501.554167</td>\n",
       "      <td>0</td>\n",
       "      <td>0</td>\n",
       "      <td>0</td>\n",
       "      <td>0</td>\n",
       "      <td>0</td>\n",
       "      <td>...</td>\n",
       "      <td>0</td>\n",
       "      <td>1</td>\n",
       "      <td>0</td>\n",
       "      <td>0</td>\n",
       "      <td>0</td>\n",
       "      <td>0</td>\n",
       "      <td>0</td>\n",
       "      <td>0</td>\n",
       "      <td>0</td>\n",
       "      <td>0</td>\n",
       "    </tr>\n",
       "  </tbody>\n",
       "</table>\n",
       "<p>5 rows × 25 columns</p>\n",
       "</div>"
      ],
      "text/plain": [
       "   length(m)  height(cm)  X1  X2         diff  condition_1  condition_2  \\\n",
       "0       0.80        7.78  13   9    73.684028            0            1   \n",
       "1       0.72       14.19  13   9  1862.740972            1            0   \n",
       "2       0.62       17.82   0   1   755.770833            1            0   \n",
       "3       0.50       11.06  18   4    52.401389            0            1   \n",
       "4       0.92       29.56   0   7   501.554167            0            0   \n",
       "\n",
       "   color_type_Blue  color_type_Brown  color_type_Buff  ...  color_type_Orange  \\\n",
       "0                0                 1                0  ...                  0   \n",
       "1                0                 0                0  ...                  0   \n",
       "2                0                 0                0  ...                  0   \n",
       "3                0                 0                0  ...                  0   \n",
       "4                0                 0                0  ...                  0   \n",
       "\n",
       "   color_type_Red  color_type_Sable  color_type_Tan  color_type_Torbie  \\\n",
       "0               0                 0               0                  0   \n",
       "1               0                 0               0                  0   \n",
       "2               0                 0               0                  0   \n",
       "3               0                 0               0                  0   \n",
       "4               1                 0               0                  0   \n",
       "\n",
       "   color_type_Tortie  color_type_Tricolor  color_type_White  \\\n",
       "0                  0                    0                 0   \n",
       "1                  0                    0                 1   \n",
       "2                  0                    0                 1   \n",
       "3                  0                    0                 0   \n",
       "4                  0                    0                 0   \n",
       "\n",
       "   color_type_Yellow  color_type_rare  \n",
       "0                  0                0  \n",
       "1                  0                0  \n",
       "2                  0                0  \n",
       "3                  0                0  \n",
       "4                  0                0  \n",
       "\n",
       "[5 rows x 25 columns]"
      ]
     },
     "execution_count": 125,
     "metadata": {},
     "output_type": "execute_result"
    }
   ],
   "source": [
    "data_with_dummies.head()"
   ]
  },
  {
   "cell_type": "code",
   "execution_count": 126,
   "metadata": {},
   "outputs": [],
   "source": [
    "from sklearn.model_selection import train_test_split\n",
    "\n",
    "x_train, x_test, y_train, y_test = train_test_split(data_with_dummies,z, test_size=0.2, random_state=365)"
   ]
  },
  {
   "cell_type": "code",
   "execution_count": 127,
   "metadata": {},
   "outputs": [],
   "source": [
    "from sklearn.preprocessing import StandardScaler\n",
    "sc = StandardScaler()   \n",
    "x_train = sc.fit_transform(x_train)\n",
    "x_test = sc.transform(x_test)"
   ]
  },
  {
   "cell_type": "code",
   "execution_count": 128,
   "metadata": {},
   "outputs": [],
   "source": [
    "from sklearn.ensemble import RandomForestClassifier\n",
    "from sklearn.svm import SVC\n",
    "from sklearn import metrics\n",
    "from xgboost import XGBClassifier\n",
    "from sklearn.metrics import f1_score \n",
    "import warnings\n",
    "warnings.filterwarnings(\"ignore\")"
   ]
  },
  {
   "cell_type": "code",
   "execution_count": 129,
   "metadata": {},
   "outputs": [
    {
     "name": "stdout",
     "output_type": "stream",
     "text": [
      "Results using Support Vector Machine Classifier is\n",
      "Accuracy : 80.24193548387096\n",
      "Precision : 0.7911377109174154\n",
      "Recall : 0.8024193548387096\n",
      "f1 score: 0.7955410714111862\n"
     ]
    }
   ],
   "source": [
    "svm = SVC() \n",
    "svm.fit(x_train,y_train)\n",
    "p = svm.predict(x_test)\n",
    "SVM=metrics.accuracy_score(y_test, p)*100\n",
    "print('Results using Support Vector Machine Classifier is')\n",
    "print('Accuracy :',SVM)\n",
    "print('Precision :',metrics.precision_score(y_test,p,average=\"weighted\"))\n",
    "print('Recall :',metrics.recall_score(y_test,p,average=\"weighted\"))\n",
    "print(\"f1 score:\",f1_score(y_test,p,average=\"weighted\"))"
   ]
  },
  {
   "cell_type": "code",
   "execution_count": 130,
   "metadata": {},
   "outputs": [
    {
     "name": "stdout",
     "output_type": "stream",
     "text": [
      "[[   0    2    8    0]\n",
      " [   0  944  382    0]\n",
      " [   0  261 1842    0]\n",
      " [   0    5   28    0]]\n"
     ]
    }
   ],
   "source": [
    "from sklearn.metrics import confusion_matrix\n",
    "result=confusion_matrix(y_test,p)\n",
    "print(result)"
   ]
  },
  {
   "cell_type": "code",
   "execution_count": 131,
   "metadata": {},
   "outputs": [
    {
     "name": "stdout",
     "output_type": "stream",
     "text": [
      "Results using Random Forest Classifier is\n",
      "Accuracy : 84.30299539170507\n",
      "Precision : 0.8436505160686912\n",
      "Recall : 0.8430299539170507\n",
      "f1 score: 0.8379002495730726\n"
     ]
    }
   ],
   "source": [
    "clf2 = RandomForestClassifier(n_estimators=100)\n",
    "clf2.fit(x_train,y_train)\n",
    "pr = clf2.predict(x_test)\n",
    "RF=metrics.accuracy_score(y_test, pr)*100\n",
    "print('Results using Random Forest Classifier is')\n",
    "print('Accuracy :',RF)\n",
    "print('Precision :',metrics.precision_score(y_test,pr,average=\"weighted\"))\n",
    "print('Recall :',metrics.recall_score(y_test,pr,average=\"weighted\"))\n",
    "print(\"f1 score:\",f1_score(y_test,pr,average=\"weighted\"))"
   ]
  },
  {
   "cell_type": "code",
   "execution_count": 132,
   "metadata": {},
   "outputs": [
    {
     "name": "stdout",
     "output_type": "stream",
     "text": [
      "[[   3    1    6    0]\n",
      " [   0 1025  301    0]\n",
      " [   1  204 1898    0]\n",
      " [   0    7   25    1]]\n"
     ]
    }
   ],
   "source": [
    "result1=confusion_matrix(y_test,pr)\n",
    "print(result1)"
   ]
  },
  {
   "cell_type": "code",
   "execution_count": 133,
   "metadata": {},
   "outputs": [
    {
     "name": "stdout",
     "output_type": "stream",
     "text": [
      "Results using XGBoost Classifier is\n",
      "Accuracy : 84.41820276497695\n",
      "Precision : 0.841103898724365\n",
      "Recall : 0.8441820276497696\n",
      "f1 score: 0.7955410714111862\n"
     ]
    }
   ],
   "source": [
    "model = XGBClassifier()\n",
    "model.fit(x_train, y_train)\n",
    "y_pred = model.predict(x_test)\n",
    "XGB=metrics.accuracy_score(y_test, y_pred)*100\n",
    "print('Results using XGBoost Classifier is')\n",
    "print('Accuracy :',XGB)\n",
    "print('Precision :',metrics.precision_score(y_test,y_pred,average=\"weighted\"))\n",
    "print('Recall :',metrics.recall_score(y_test,y_pred,average=\"weighted\"))\n",
    "print(\"f1 score:\",f1_score(y_test,p,average=\"weighted\"))"
   ]
  },
  {
   "cell_type": "code",
   "execution_count": 134,
   "metadata": {},
   "outputs": [
    {
     "name": "stdout",
     "output_type": "stream",
     "text": [
      "[[   5    1    4    0]\n",
      " [   0 1009  316    1]\n",
      " [   1  186 1915    1]\n",
      " [   0    3   28    2]]\n"
     ]
    }
   ],
   "source": [
    "result2=confusion_matrix(y_test,y_pred)\n",
    "print(result2)"
   ]
  },
  {
   "cell_type": "code",
   "execution_count": 135,
   "metadata": {},
   "outputs": [],
   "source": [
    "from sklearn.model_selection import train_test_split\n",
    "x_train1, x_test1, y_train1, y_test1 = train_test_split(data_with_dummies,y, test_size=0.2, random_state=365)"
   ]
  },
  {
   "cell_type": "code",
   "execution_count": 136,
   "metadata": {},
   "outputs": [],
   "source": [
    "x_train1 = sc.fit_transform(x_train1)\n",
    "x_test1 = sc.fit_transform(x_test1)"
   ]
  },
  {
   "cell_type": "code",
   "execution_count": 137,
   "metadata": {},
   "outputs": [
    {
     "name": "stdout",
     "output_type": "stream",
     "text": [
      "Results using Support Vector Machine Classifier is\n",
      "Accuracy : 80.29953917050692\n",
      "Precision : 0.791728437908537\n",
      "Recall : 0.8029953917050692\n",
      "f1 score: 0.7960858442613422\n"
     ]
    }
   ],
   "source": [
    "svm = SVC() \n",
    "svm.fit(x_train1,y_train1)\n",
    "p1 = svm.predict(x_test1)\n",
    "SVM=metrics.accuracy_score(y_test1, p1)*100\n",
    "print('Results using Support Vector Machine Classifier is')\n",
    "print('Accuracy :',SVM)\n",
    "print('Precision :',metrics.precision_score(y_test1,p1,average=\"weighted\"))\n",
    "print('Recall :',metrics.recall_score(y_test1,p1,average=\"weighted\"))\n",
    "print(\"f1 score:\",f1_score(y_test1,p1,average=\"weighted\"))\n"
   ]
  },
  {
   "cell_type": "code",
   "execution_count": 138,
   "metadata": {},
   "outputs": [
    {
     "name": "stdout",
     "output_type": "stream",
     "text": [
      "Results using Random Forest Classifier is\n",
      "Accuracy : 84.30299539170507\n",
      "Precision : 0.8319785917225532\n",
      "Recall : 0.8341013824884793\n",
      "f1 score: 0.8297892574893144\n"
     ]
    }
   ],
   "source": [
    "clf1 = RandomForestClassifier(c)\n",
    "clf1.fit(x_train1,y_train1)\n",
    "pr1= clf1.predict(x_test1)\n",
    "RF=metrics.accuracy_score(y_test1, pr)*100\n",
    "print('Results using Random Forest Classifier is')\n",
    "print('Accuracy :',RF)\n",
    "print('Precision :',metrics.precision_score(y_test,pr1,average=\"weighted\"))\n",
    "print('Recall :',metrics.recall_score(y_test,pr1,average=\"weighted\"))\n",
    "print(\"f1 score:\",f1_score(y_test,pr1,average=\"weighted\"))"
   ]
  },
  {
   "cell_type": "code",
   "execution_count": 139,
   "metadata": {},
   "outputs": [
    {
     "name": "stdout",
     "output_type": "stream",
     "text": [
      "Results using XGBoost Classifier is\n",
      "Accuracy : 83.52534562211981\n",
      "Precision : 0.8366794611203975\n",
      "Recall : 0.8352534562211982\n",
      "f1 score: 0.7955410714111862\n"
     ]
    }
   ],
   "source": [
    "model = XGBClassifier()\n",
    "model.fit(x_train1, y_train1)\n",
    "y_pred = model.predict(x_test1)\n",
    "XGB=metrics.accuracy_score(y_test1, y_pred)*100\n",
    "print('Results using XGBoost Classifier is')\n",
    "print('Accuracy :',XGB)\n",
    "print('Precision :',metrics.precision_score(y_test,y_pred,average=\"weighted\"))\n",
    "print('Recall :',metrics.recall_score(y_test,y_pred,average=\"weighted\"))\n",
    "print(\"f1 score:\",f1_score(y_test,p,average=\"weighted\"))"
   ]
  },
  {
   "cell_type": "code",
   "execution_count": 140,
   "metadata": {},
   "outputs": [
    {
     "data": {
      "text/html": [
       "<div>\n",
       "<style scoped>\n",
       "    .dataframe tbody tr th:only-of-type {\n",
       "        vertical-align: middle;\n",
       "    }\n",
       "\n",
       "    .dataframe tbody tr th {\n",
       "        vertical-align: top;\n",
       "    }\n",
       "\n",
       "    .dataframe thead th {\n",
       "        text-align: right;\n",
       "    }\n",
       "</style>\n",
       "<table border=\"1\" class=\"dataframe\">\n",
       "  <thead>\n",
       "    <tr style=\"text-align: right;\">\n",
       "      <th></th>\n",
       "      <th>pet_id</th>\n",
       "      <th>issue_date</th>\n",
       "      <th>listing_date</th>\n",
       "      <th>condition</th>\n",
       "      <th>color_type</th>\n",
       "      <th>length(m)</th>\n",
       "      <th>height(cm)</th>\n",
       "      <th>X1</th>\n",
       "      <th>X2</th>\n",
       "    </tr>\n",
       "  </thead>\n",
       "  <tbody>\n",
       "    <tr>\n",
       "      <th>0</th>\n",
       "      <td>ANSL_75005</td>\n",
       "      <td>2005-08-17 00:00:00</td>\n",
       "      <td>2017-09-07 15:35:00</td>\n",
       "      <td>0.0</td>\n",
       "      <td>Black</td>\n",
       "      <td>0.87</td>\n",
       "      <td>42.73</td>\n",
       "      <td>0</td>\n",
       "      <td>7</td>\n",
       "    </tr>\n",
       "    <tr>\n",
       "      <th>1</th>\n",
       "      <td>ANSL_76663</td>\n",
       "      <td>2018-11-15 00:00:00</td>\n",
       "      <td>2019-05-08 17:24:00</td>\n",
       "      <td>1.0</td>\n",
       "      <td>Orange Tabby</td>\n",
       "      <td>0.06</td>\n",
       "      <td>6.71</td>\n",
       "      <td>0</td>\n",
       "      <td>1</td>\n",
       "    </tr>\n",
       "    <tr>\n",
       "      <th>2</th>\n",
       "      <td>ANSL_58259</td>\n",
       "      <td>2012-10-11 00:00:00</td>\n",
       "      <td>2018-04-02 16:51:00</td>\n",
       "      <td>1.0</td>\n",
       "      <td>Black</td>\n",
       "      <td>0.24</td>\n",
       "      <td>41.21</td>\n",
       "      <td>0</td>\n",
       "      <td>7</td>\n",
       "    </tr>\n",
       "    <tr>\n",
       "      <th>3</th>\n",
       "      <td>ANSL_67171</td>\n",
       "      <td>2015-02-13 00:00:00</td>\n",
       "      <td>2018-04-06 07:25:00</td>\n",
       "      <td>1.0</td>\n",
       "      <td>Black</td>\n",
       "      <td>0.29</td>\n",
       "      <td>8.46</td>\n",
       "      <td>7</td>\n",
       "      <td>1</td>\n",
       "    </tr>\n",
       "    <tr>\n",
       "      <th>4</th>\n",
       "      <td>ANSL_72871</td>\n",
       "      <td>2017-01-18 00:00:00</td>\n",
       "      <td>2018-04-26 13:42:00</td>\n",
       "      <td>1.0</td>\n",
       "      <td>Brown</td>\n",
       "      <td>0.71</td>\n",
       "      <td>30.92</td>\n",
       "      <td>0</td>\n",
       "      <td>7</td>\n",
       "    </tr>\n",
       "  </tbody>\n",
       "</table>\n",
       "</div>"
      ],
      "text/plain": [
       "       pet_id           issue_date         listing_date  condition  \\\n",
       "0  ANSL_75005  2005-08-17 00:00:00  2017-09-07 15:35:00        0.0   \n",
       "1  ANSL_76663  2018-11-15 00:00:00  2019-05-08 17:24:00        1.0   \n",
       "2  ANSL_58259  2012-10-11 00:00:00  2018-04-02 16:51:00        1.0   \n",
       "3  ANSL_67171  2015-02-13 00:00:00  2018-04-06 07:25:00        1.0   \n",
       "4  ANSL_72871  2017-01-18 00:00:00  2018-04-26 13:42:00        1.0   \n",
       "\n",
       "     color_type  length(m)  height(cm)  X1  X2  \n",
       "0         Black       0.87       42.73   0   7  \n",
       "1  Orange Tabby       0.06        6.71   0   1  \n",
       "2         Black       0.24       41.21   0   7  \n",
       "3         Black       0.29        8.46   7   1  \n",
       "4         Brown       0.71       30.92   0   7  "
      ]
     },
     "execution_count": 140,
     "metadata": {},
     "output_type": "execute_result"
    }
   ],
   "source": [
    "datanew=pd.read_csv(\"test.csv\")\n",
    "datanew.head()"
   ]
  },
  {
   "cell_type": "code",
   "execution_count": 141,
   "metadata": {},
   "outputs": [],
   "source": [
    "import pickle"
   ]
  },
  {
   "cell_type": "code",
   "execution_count": 142,
   "metadata": {},
   "outputs": [],
   "source": [
    "with open('module', 'wb') as file:\n",
    "    pickle.dump(clf, file)"
   ]
  },
  {
   "cell_type": "code",
   "execution_count": 143,
   "metadata": {},
   "outputs": [],
   "source": [
    "with open('module', 'rb') as file:\n",
    "    m = pickle.load(file)"
   ]
  },
  {
   "cell_type": "code",
   "execution_count": 193,
   "metadata": {},
   "outputs": [],
   "source": [
    "data=pd.read_csv(\"test_preprocess.csv\")"
   ]
  },
  {
   "cell_type": "code",
   "execution_count": 194,
   "metadata": {},
   "outputs": [
    {
     "data": {
      "text/html": [
       "<div>\n",
       "<style scoped>\n",
       "    .dataframe tbody tr th:only-of-type {\n",
       "        vertical-align: middle;\n",
       "    }\n",
       "\n",
       "    .dataframe tbody tr th {\n",
       "        vertical-align: top;\n",
       "    }\n",
       "\n",
       "    .dataframe thead th {\n",
       "        text-align: right;\n",
       "    }\n",
       "</style>\n",
       "<table border=\"1\" class=\"dataframe\">\n",
       "  <thead>\n",
       "    <tr style=\"text-align: right;\">\n",
       "      <th></th>\n",
       "      <th>pet_id</th>\n",
       "      <th>condition</th>\n",
       "      <th>color_type</th>\n",
       "      <th>length(m)</th>\n",
       "      <th>height(cm)</th>\n",
       "      <th>X1</th>\n",
       "      <th>X2</th>\n",
       "      <th>diff</th>\n",
       "    </tr>\n",
       "  </thead>\n",
       "  <tbody>\n",
       "    <tr>\n",
       "      <th>0</th>\n",
       "      <td>ANSL_75005</td>\n",
       "      <td>0</td>\n",
       "      <td>Black</td>\n",
       "      <td>0.87</td>\n",
       "      <td>42.73</td>\n",
       "      <td>0</td>\n",
       "      <td>7</td>\n",
       "      <td>4404.649306</td>\n",
       "    </tr>\n",
       "    <tr>\n",
       "      <th>1</th>\n",
       "      <td>ANSL_76663</td>\n",
       "      <td>1</td>\n",
       "      <td>Orange</td>\n",
       "      <td>0.06</td>\n",
       "      <td>6.71</td>\n",
       "      <td>0</td>\n",
       "      <td>1</td>\n",
       "      <td>174.725000</td>\n",
       "    </tr>\n",
       "    <tr>\n",
       "      <th>2</th>\n",
       "      <td>ANSL_58259</td>\n",
       "      <td>1</td>\n",
       "      <td>Black</td>\n",
       "      <td>0.24</td>\n",
       "      <td>41.21</td>\n",
       "      <td>0</td>\n",
       "      <td>7</td>\n",
       "      <td>1999.702083</td>\n",
       "    </tr>\n",
       "    <tr>\n",
       "      <th>3</th>\n",
       "      <td>ANSL_67171</td>\n",
       "      <td>1</td>\n",
       "      <td>Black</td>\n",
       "      <td>0.29</td>\n",
       "      <td>8.46</td>\n",
       "      <td>7</td>\n",
       "      <td>1</td>\n",
       "      <td>1148.309028</td>\n",
       "    </tr>\n",
       "    <tr>\n",
       "      <th>4</th>\n",
       "      <td>ANSL_72871</td>\n",
       "      <td>1</td>\n",
       "      <td>Brown</td>\n",
       "      <td>0.71</td>\n",
       "      <td>30.92</td>\n",
       "      <td>0</td>\n",
       "      <td>7</td>\n",
       "      <td>463.570833</td>\n",
       "    </tr>\n",
       "  </tbody>\n",
       "</table>\n",
       "</div>"
      ],
      "text/plain": [
       "       pet_id  condition color_type  length(m)  height(cm)  X1  X2  \\\n",
       "0  ANSL_75005          0      Black       0.87       42.73   0   7   \n",
       "1  ANSL_76663          1     Orange       0.06        6.71   0   1   \n",
       "2  ANSL_58259          1      Black       0.24       41.21   0   7   \n",
       "3  ANSL_67171          1      Black       0.29        8.46   7   1   \n",
       "4  ANSL_72871          1      Brown       0.71       30.92   0   7   \n",
       "\n",
       "          diff  \n",
       "0  4404.649306  \n",
       "1   174.725000  \n",
       "2  1999.702083  \n",
       "3  1148.309028  \n",
       "4   463.570833  "
      ]
     },
     "execution_count": 194,
     "metadata": {},
     "output_type": "execute_result"
    }
   ],
   "source": [
    "data.head()"
   ]
  },
  {
   "cell_type": "code",
   "execution_count": 201,
   "metadata": {},
   "outputs": [],
   "source": [
    "ynew=data.pet_id"
   ]
  },
  {
   "cell_type": "code",
   "execution_count": 202,
   "metadata": {},
   "outputs": [],
   "source": [
    "data2=data.drop([\"pet_id\"],axis=1)"
   ]
  },
  {
   "cell_type": "code",
   "execution_count": 203,
   "metadata": {},
   "outputs": [],
   "source": [
    "data_with_dummies1 = pd.get_dummies(data2, columns=['condition', 'color_type'], drop_first=True)"
   ]
  },
  {
   "cell_type": "code",
   "execution_count": 204,
   "metadata": {},
   "outputs": [
    {
     "data": {
      "text/html": [
       "<div>\n",
       "<style scoped>\n",
       "    .dataframe tbody tr th:only-of-type {\n",
       "        vertical-align: middle;\n",
       "    }\n",
       "\n",
       "    .dataframe tbody tr th {\n",
       "        vertical-align: top;\n",
       "    }\n",
       "\n",
       "    .dataframe thead th {\n",
       "        text-align: right;\n",
       "    }\n",
       "</style>\n",
       "<table border=\"1\" class=\"dataframe\">\n",
       "  <thead>\n",
       "    <tr style=\"text-align: right;\">\n",
       "      <th></th>\n",
       "      <th>length(m)</th>\n",
       "      <th>height(cm)</th>\n",
       "      <th>X1</th>\n",
       "      <th>X2</th>\n",
       "      <th>diff</th>\n",
       "      <th>condition_1</th>\n",
       "      <th>condition_2</th>\n",
       "      <th>color_type_Blue</th>\n",
       "      <th>color_type_Brown</th>\n",
       "      <th>color_type_Buff</th>\n",
       "      <th>...</th>\n",
       "      <th>color_type_Orange</th>\n",
       "      <th>color_type_Red</th>\n",
       "      <th>color_type_Sable</th>\n",
       "      <th>color_type_Tan</th>\n",
       "      <th>color_type_Torbie</th>\n",
       "      <th>color_type_Tortie</th>\n",
       "      <th>color_type_Tricolor</th>\n",
       "      <th>color_type_White</th>\n",
       "      <th>color_type_Yellow</th>\n",
       "      <th>color_type_rare</th>\n",
       "    </tr>\n",
       "  </thead>\n",
       "  <tbody>\n",
       "    <tr>\n",
       "      <th>0</th>\n",
       "      <td>0.87</td>\n",
       "      <td>42.73</td>\n",
       "      <td>0</td>\n",
       "      <td>7</td>\n",
       "      <td>4404.649306</td>\n",
       "      <td>0</td>\n",
       "      <td>0</td>\n",
       "      <td>0</td>\n",
       "      <td>0</td>\n",
       "      <td>0</td>\n",
       "      <td>...</td>\n",
       "      <td>0</td>\n",
       "      <td>0</td>\n",
       "      <td>0</td>\n",
       "      <td>0</td>\n",
       "      <td>0</td>\n",
       "      <td>0</td>\n",
       "      <td>0</td>\n",
       "      <td>0</td>\n",
       "      <td>0</td>\n",
       "      <td>0</td>\n",
       "    </tr>\n",
       "    <tr>\n",
       "      <th>1</th>\n",
       "      <td>0.06</td>\n",
       "      <td>6.71</td>\n",
       "      <td>0</td>\n",
       "      <td>1</td>\n",
       "      <td>174.725000</td>\n",
       "      <td>1</td>\n",
       "      <td>0</td>\n",
       "      <td>0</td>\n",
       "      <td>0</td>\n",
       "      <td>0</td>\n",
       "      <td>...</td>\n",
       "      <td>1</td>\n",
       "      <td>0</td>\n",
       "      <td>0</td>\n",
       "      <td>0</td>\n",
       "      <td>0</td>\n",
       "      <td>0</td>\n",
       "      <td>0</td>\n",
       "      <td>0</td>\n",
       "      <td>0</td>\n",
       "      <td>0</td>\n",
       "    </tr>\n",
       "    <tr>\n",
       "      <th>2</th>\n",
       "      <td>0.24</td>\n",
       "      <td>41.21</td>\n",
       "      <td>0</td>\n",
       "      <td>7</td>\n",
       "      <td>1999.702083</td>\n",
       "      <td>1</td>\n",
       "      <td>0</td>\n",
       "      <td>0</td>\n",
       "      <td>0</td>\n",
       "      <td>0</td>\n",
       "      <td>...</td>\n",
       "      <td>0</td>\n",
       "      <td>0</td>\n",
       "      <td>0</td>\n",
       "      <td>0</td>\n",
       "      <td>0</td>\n",
       "      <td>0</td>\n",
       "      <td>0</td>\n",
       "      <td>0</td>\n",
       "      <td>0</td>\n",
       "      <td>0</td>\n",
       "    </tr>\n",
       "    <tr>\n",
       "      <th>3</th>\n",
       "      <td>0.29</td>\n",
       "      <td>8.46</td>\n",
       "      <td>7</td>\n",
       "      <td>1</td>\n",
       "      <td>1148.309028</td>\n",
       "      <td>1</td>\n",
       "      <td>0</td>\n",
       "      <td>0</td>\n",
       "      <td>0</td>\n",
       "      <td>0</td>\n",
       "      <td>...</td>\n",
       "      <td>0</td>\n",
       "      <td>0</td>\n",
       "      <td>0</td>\n",
       "      <td>0</td>\n",
       "      <td>0</td>\n",
       "      <td>0</td>\n",
       "      <td>0</td>\n",
       "      <td>0</td>\n",
       "      <td>0</td>\n",
       "      <td>0</td>\n",
       "    </tr>\n",
       "    <tr>\n",
       "      <th>4</th>\n",
       "      <td>0.71</td>\n",
       "      <td>30.92</td>\n",
       "      <td>0</td>\n",
       "      <td>7</td>\n",
       "      <td>463.570833</td>\n",
       "      <td>1</td>\n",
       "      <td>0</td>\n",
       "      <td>0</td>\n",
       "      <td>1</td>\n",
       "      <td>0</td>\n",
       "      <td>...</td>\n",
       "      <td>0</td>\n",
       "      <td>0</td>\n",
       "      <td>0</td>\n",
       "      <td>0</td>\n",
       "      <td>0</td>\n",
       "      <td>0</td>\n",
       "      <td>0</td>\n",
       "      <td>0</td>\n",
       "      <td>0</td>\n",
       "      <td>0</td>\n",
       "    </tr>\n",
       "  </tbody>\n",
       "</table>\n",
       "<p>5 rows × 25 columns</p>\n",
       "</div>"
      ],
      "text/plain": [
       "   length(m)  height(cm)  X1  X2         diff  condition_1  condition_2  \\\n",
       "0       0.87       42.73   0   7  4404.649306            0            0   \n",
       "1       0.06        6.71   0   1   174.725000            1            0   \n",
       "2       0.24       41.21   0   7  1999.702083            1            0   \n",
       "3       0.29        8.46   7   1  1148.309028            1            0   \n",
       "4       0.71       30.92   0   7   463.570833            1            0   \n",
       "\n",
       "   color_type_Blue  color_type_Brown  color_type_Buff  ...  color_type_Orange  \\\n",
       "0                0                 0                0  ...                  0   \n",
       "1                0                 0                0  ...                  1   \n",
       "2                0                 0                0  ...                  0   \n",
       "3                0                 0                0  ...                  0   \n",
       "4                0                 1                0  ...                  0   \n",
       "\n",
       "   color_type_Red  color_type_Sable  color_type_Tan  color_type_Torbie  \\\n",
       "0               0                 0               0                  0   \n",
       "1               0                 0               0                  0   \n",
       "2               0                 0               0                  0   \n",
       "3               0                 0               0                  0   \n",
       "4               0                 0               0                  0   \n",
       "\n",
       "   color_type_Tortie  color_type_Tricolor  color_type_White  \\\n",
       "0                  0                    0                 0   \n",
       "1                  0                    0                 0   \n",
       "2                  0                    0                 0   \n",
       "3                  0                    0                 0   \n",
       "4                  0                    0                 0   \n",
       "\n",
       "   color_type_Yellow  color_type_rare  \n",
       "0                  0                0  \n",
       "1                  0                0  \n",
       "2                  0                0  \n",
       "3                  0                0  \n",
       "4                  0                0  \n",
       "\n",
       "[5 rows x 25 columns]"
      ]
     },
     "execution_count": 204,
     "metadata": {},
     "output_type": "execute_result"
    }
   ],
   "source": [
    "data_with_dummies1.head()"
   ]
  },
  {
   "cell_type": "code",
   "execution_count": 205,
   "metadata": {},
   "outputs": [],
   "source": [
    "pred1=clf2.predict(data_with_dummies1)\n",
    "pred2=clf1.predict(data_with_dummies1)"
   ]
  },
  {
   "cell_type": "code",
   "execution_count": 207,
   "metadata": {},
   "outputs": [
    {
     "data": {
      "text/html": [
       "<div>\n",
       "<style scoped>\n",
       "    .dataframe tbody tr th:only-of-type {\n",
       "        vertical-align: middle;\n",
       "    }\n",
       "\n",
       "    .dataframe tbody tr th {\n",
       "        vertical-align: top;\n",
       "    }\n",
       "\n",
       "    .dataframe thead th {\n",
       "        text-align: right;\n",
       "    }\n",
       "</style>\n",
       "<table border=\"1\" class=\"dataframe\">\n",
       "  <thead>\n",
       "    <tr style=\"text-align: right;\">\n",
       "      <th></th>\n",
       "      <th>pet_id</th>\n",
       "      <th>breed_category</th>\n",
       "      <th>pet_category</th>\n",
       "    </tr>\n",
       "  </thead>\n",
       "  <tbody>\n",
       "    <tr>\n",
       "      <th>0</th>\n",
       "      <td>ANSL_75005</td>\n",
       "      <td>1</td>\n",
       "      <td>2</td>\n",
       "    </tr>\n",
       "    <tr>\n",
       "      <th>1</th>\n",
       "      <td>ANSL_76663</td>\n",
       "      <td>1</td>\n",
       "      <td>2</td>\n",
       "    </tr>\n",
       "    <tr>\n",
       "      <th>2</th>\n",
       "      <td>ANSL_58259</td>\n",
       "      <td>1</td>\n",
       "      <td>2</td>\n",
       "    </tr>\n",
       "    <tr>\n",
       "      <th>3</th>\n",
       "      <td>ANSL_67171</td>\n",
       "      <td>1</td>\n",
       "      <td>1</td>\n",
       "    </tr>\n",
       "    <tr>\n",
       "      <th>4</th>\n",
       "      <td>ANSL_72871</td>\n",
       "      <td>1</td>\n",
       "      <td>1</td>\n",
       "    </tr>\n",
       "  </tbody>\n",
       "</table>\n",
       "</div>"
      ],
      "text/plain": [
       "       pet_id  breed_category  pet_category\n",
       "0  ANSL_75005               1             2\n",
       "1  ANSL_76663               1             2\n",
       "2  ANSL_58259               1             2\n",
       "3  ANSL_67171               1             1\n",
       "4  ANSL_72871               1             1"
      ]
     },
     "execution_count": 207,
     "metadata": {},
     "output_type": "execute_result"
    }
   ],
   "source": [
    "from pandas import DataFrame\n",
    "df=pd.DataFrame(data=ynew)\n",
    "df['breed_category']=pred2\n",
    "df['pet_category']=pred1\n",
    "\n",
    "df.head()"
   ]
  },
  {
   "cell_type": "code",
   "execution_count": 208,
   "metadata": {},
   "outputs": [],
   "source": [
    "df.to_csv(\"submissions.csv\")"
   ]
  },
  {
   "cell_type": "code",
   "execution_count": null,
   "metadata": {},
   "outputs": [],
   "source": []
  }
 ],
 "metadata": {
  "kernelspec": {
   "display_name": "Python 3",
   "language": "python",
   "name": "python3"
  },
  "language_info": {
   "codemirror_mode": {
    "name": "ipython",
    "version": 3
   },
   "file_extension": ".py",
   "mimetype": "text/x-python",
   "name": "python",
   "nbconvert_exporter": "python",
   "pygments_lexer": "ipython3",
   "version": "3.7.6"
  }
 },
 "nbformat": 4,
 "nbformat_minor": 4
}
